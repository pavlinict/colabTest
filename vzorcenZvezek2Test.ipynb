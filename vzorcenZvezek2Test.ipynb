{
  "nbformat": 4,
  "nbformat_minor": 0,
  "metadata": {
    "colab": {
      "provenance": [],
      "authorship_tag": "ABX9TyNvRuGUPLz26aNJBiK0xJZi",
      "include_colab_link": true
    },
    "kernelspec": {
      "name": "python3",
      "display_name": "Python 3"
    },
    "language_info": {
      "name": "python"
    }
  },
  "cells": [
    {
      "cell_type": "markdown",
      "metadata": {
        "id": "view-in-github",
        "colab_type": "text"
      },
      "source": [
        "<a href=\"https://colab.research.google.com/github/pavlinict/colabTest/blob/main/vzorcenZvezek2Test.ipynb\" target=\"_parent\"><img src=\"https://colab.research.google.com/assets/colab-badge.svg\" alt=\"Open In Colab\"/></a>"
      ]
    },
    {
      "cell_type": "code",
      "metadata": {
        "colab": {
          "base_uri": "https://localhost:8080/"
        },
        "id": "2356082b",
        "outputId": "cd3e50cf-08a6-4102-cf51-c5ae808f22a7"
      },
      "source": [
        "# This is an example Python code cell\n",
        "\n",
        "# Print a greeting\n",
        "print(\"Hello, Colab!\")\n",
        "\n",
        "# Define a variable\n",
        "x = 10\n",
        "\n",
        "# Perform a simple calculation\n",
        "y = x * 2\n",
        "\n",
        "# Print the result\n",
        "print(f\"The value of y is: {y}\")\n",
        "\n",
        "# Create a list\n",
        "my_list = [1, 2, 3, 4, 5]\n",
        "\n",
        "# Iterate through the list and print each element\n",
        "print(\"Elements in the list:\")\n",
        "for item in my_list:\n",
        "  print(item)"
      ],
      "execution_count": null,
      "outputs": [
        {
          "output_type": "stream",
          "name": "stdout",
          "text": [
            "Hello, Colab!\n",
            "The value of y is: 20\n",
            "Elements in the list:\n",
            "1\n",
            "2\n",
            "3\n",
            "4\n",
            "5\n"
          ]
        }
      ]
    },
    {
      "cell_type": "code",
      "source": [
        "def dfs(graph, start, visited=None):\n",
        "    if visited is None:\n",
        "        visited = set()\n",
        "    visited.add(start)\n",
        "    print(start)\n",
        "    for neighbor in graph[start]:\n",
        "        if neighbor not in visited:\n",
        "            dfs(graph, neighbor, visited)\n",
        "    return visited\n",
        "\n",
        "# Example usage:\n",
        "graph = {'A': ['B', 'C'], 'B': ['E'], 'C': ['D'], 'D': [], 'E': []}\n",
        "print(dfs(graph, 'A'))"
      ],
      "metadata": {
        "id": "5G73k_fJjZXn",
        "outputId": "b3eeb3bd-f32f-41bf-d817-842021c512fb",
        "colab": {
          "base_uri": "https://localhost:8080/"
        }
      },
      "execution_count": null,
      "outputs": [
        {
          "output_type": "stream",
          "name": "stdout",
          "text": [
            "A\n",
            "B\n",
            "E\n",
            "C\n",
            "D\n",
            "{'A', 'E', 'B', 'C', 'D'}\n"
          ]
        }
      ]
    }
  ]
}